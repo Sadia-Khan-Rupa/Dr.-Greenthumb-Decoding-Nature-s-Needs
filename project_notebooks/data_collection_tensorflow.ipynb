{
 "cells": [
  {
   "cell_type": "markdown",
   "metadata": {},
   "source": [
    "# import librarys\n"
   ]
  },
  {
   "cell_type": "code",
   "execution_count": 3,
   "metadata": {},
   "outputs": [],
   "source": [
    "import tensorflow as tf\n",
    "import numpy as np\n",
    "import matplotlib.pyplot as plt\n",
    "import os"
   ]
  },
  {
   "cell_type": "markdown",
   "metadata": {},
   "source": [
    "# Import Dataset"
   ]
  },
  {
   "cell_type": "markdown",
   "metadata": {},
   "source": [
    "Use Directories\n",
    "\n",
    "The main Root of dataset contains 2 folder (New Plant Diseases Dataset (Augmented)) and (Test). In the first one, we can see the directory of Train and Valid and in the second one, we have our Test images.\n",
    "\n",
    "The os.listdir() method in Python is used to get the list of all files and directories in the specified directory. If we don’t specify any directory, then a list of files and directories in the current working directory will be returned."
   ]
  },
  {
   "cell_type": "code",
   "execution_count": 4,
   "metadata": {},
   "outputs": [],
   "source": [
    "import os\n",
    "\n",
    "root_dir = '/Users/sadiakhanrupa/Bootcamp Main Phase/dataset_final_project/archive/New Plant Diseases Dataset(Augmented)/New Plant Diseases Dataset(Augmented)'\n",
    "train_dir = root_dir + '/train'\n",
    "valid_dir = root_dir + '/valid'\n",
    "test_dir = '/Users/sadiakhanrupa/Bootcamp Main Phase/dataset_final_project/archive/test'\n",
    "\n",
    "# List all the disease classes in the train directory\n",
    "Disease_classes = os.listdir(train_dir)"
   ]
  },
  {
   "cell_type": "code",
   "execution_count": 8,
   "metadata": {},
   "outputs": [
    {
     "name": "stdout",
     "output_type": "stream",
     "text": [
      "Strawberry___healthy\n",
      "Grape___Black_rot\n",
      "Potato___Early_blight\n",
      "Blueberry___healthy\n",
      "Corn_(maize)___healthy\n",
      "Tomato___Target_Spot\n",
      ".DS_Store\n",
      "Peach___healthy\n",
      "Potato___Late_blight\n",
      "Tomato___Late_blight\n",
      "Tomato___Tomato_mosaic_virus\n",
      "Pepper,_bell___healthy\n",
      "Orange___Haunglongbing_(Citrus_greening)\n",
      "Tomato___Leaf_Mold\n",
      "Grape___Leaf_blight_(Isariopsis_Leaf_Spot)\n",
      "Cherry_(including_sour)___Powdery_mildew\n",
      "Apple___Cedar_apple_rust\n",
      "Tomato___Bacterial_spot\n",
      "Grape___healthy\n",
      "Tomato___Early_blight\n",
      "Corn_(maize)___Common_rust_\n",
      "Grape___Esca_(Black_Measles)\n",
      "Raspberry___healthy\n",
      "Tomato___healthy\n",
      "Cherry_(including_sour)___healthy\n",
      "Tomato___Tomato_Yellow_Leaf_Curl_Virus\n",
      "Apple___Apple_scab\n",
      "Corn_(maize)___Northern_Leaf_Blight\n",
      "Tomato___Spider_mites Two-spotted_spider_mite\n",
      "Peach___Bacterial_spot\n",
      "Pepper,_bell___Bacterial_spot\n",
      "Tomato___Septoria_leaf_spot\n",
      "Squash___Powdery_mildew\n",
      "Corn_(maize)___Cercospora_leaf_spot Gray_leaf_spot\n",
      "Apple___Black_rot\n",
      "Apple___healthy\n",
      "Strawberry___Leaf_scorch\n",
      "Potato___healthy\n",
      "Soybean___healthy\n"
     ]
    }
   ],
   "source": [
    "for disese in Disease_classes:\n",
    "    print(disese)"
   ]
  },
  {
   "cell_type": "code",
   "execution_count": 9,
   "metadata": {},
   "outputs": [],
   "source": [
    "# I have found one unwanted disease .DS_Store\n",
    "#I want to remove it\n",
    "\n",
    "class_to_remove = '.DS_Store'\n",
    "if class_to_remove in Disease_classes:\n",
    "    Disease_classes.remove(class_to_remove)\n"
   ]
  },
  {
   "cell_type": "code",
   "execution_count": 10,
   "metadata": {},
   "outputs": [
    {
     "data": {
      "text/plain": [
       "38"
      ]
     },
     "execution_count": 10,
     "metadata": {},
     "output_type": "execute_result"
    }
   ],
   "source": [
    "len(Disease_classes)\n",
    "#now the number of disease classes 38"
   ]
  }
 ],
 "metadata": {
  "kernelspec": {
   "display_name": "tf",
   "language": "python",
   "name": "python3"
  },
  "language_info": {
   "codemirror_mode": {
    "name": "ipython",
    "version": 3
   },
   "file_extension": ".py",
   "mimetype": "text/x-python",
   "name": "python",
   "nbconvert_exporter": "python",
   "pygments_lexer": "ipython3",
   "version": "3.11.5"
  }
 },
 "nbformat": 4,
 "nbformat_minor": 2
}
